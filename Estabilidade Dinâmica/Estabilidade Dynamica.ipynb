{
 "cells": [
  {
   "cell_type": "markdown",
   "metadata": {},
   "source": [
    "# Estabilidade Dinâmica #\n",
    "A motivação principal para o calculo da estabilidade dinâmica é certificar que os polos latitudinal, lateral e direcional são aceitaveis.\n",
    "\n",
    "Para calcular a Matriz de Estado, deve-se ter todos os parâmetos a seguir:\n",
    "\n",
    "    Derivadas devido a mudança no foward speed\n",
    "    Derivadas devido a pitching velocity\n",
    "    Derivadas devido a taxa de tempo da mudança do ângulo de ataque\n",
    "    Derivadas devido ao rolling rate\n",
    "    Derivadas devido ao yawing rate\n",
    "    Derivadas as derivadas laterais e longitudinais\n",
    "    Todos os coeficientes de estabilidade lateral\n",
    "\n",
    "Em seguida, encontrar o vetor matricial X' = AX + BU.\n",
    "    \n",
    "Para inferir o comportamento do sistema modelado por essas equação o primeiro passo a ser tomado é extrair o eingvalues da Matrix de estado X' para descobrir seus polos. Outro método é calcular a frequencia natual e os damping factors do sistema. Uma vez que os dois items forem calculados os polos podem ser calculados\n",
    "\n",
    "<img src=\"imagem16.png\" alt=\"title\">\n",
    "\n",
    "\n",
    "Equações para os coeficientes de estabilidade lateral:\n",
    "\n",
    "<img src=\"equações-para-os-coeficientes-de-estabilidade lateral.png\">\n",
    "\n",
    "Tabela de derivadas laterais:\n",
    "<img src=\"tabela-derivadas-lateral.png\" alt=\"title\">\n",
    "\n",
    "tabela de derivadas logitudinais:\n",
    "<img src=\"tabelas-derivadas-logitudinais.png\" alt=\"title\">\n"
   ]
  },
  {
   "cell_type": "markdown",
   "metadata": {},
   "source": [
    "# Importando as Bibliotecas #\n",
    "Importaremos inicialmente as bibliotecas necessárias para fazer esta análise"
   ]
  },
  {
   "cell_type": "code",
   "execution_count": 23,
   "metadata": {},
   "outputs": [],
   "source": [
    "import pandas as pd\n",
    "import matplotlib.pyplot as plt\n",
    "import numpy as np\n",
    "import scipy as sc\n",
    "from scipy import signal\n",
    "import matplotlib.pyplot as plt\n",
    "%matplotlib inline"
   ]
  },
  {
   "cell_type": "markdown",
   "metadata": {},
   "source": [
    "# Exemplo de análise do short period e plugoid #\n",
    "\n",
    "Considerando a seguinte situação retirado do livro do Nelson:\n",
    "\n",
    "<img src=\"exemplo.png\" alt=\"imagem\">\n",
    "\n",
    "As equações necessárias para se tirar as informações dos autovalores foram\n",
    "\n",
    "<img src=\"relacao-do-autovalor-com-a-frequencia-angular-e-n.png\" alt=\"imagem\">\n",
    "\n",
    "Em seguida foi utilizada as fórmulas:\n",
    "\n",
    "\n",
    "<img src=\"tempo-de-meia-vida-da-amplitude-e-meia-vida-de-ciclo.png\" alt=\"imagem\">\n",
    "\n"
   ]
  },
  {
   "cell_type": "code",
   "execution_count": 35,
   "metadata": {},
   "outputs": [
    {
     "name": "stdout",
     "output_type": "stream",
     "text": [
      "2.597763769281669\n",
      "0.2135441224420505\n",
      "2.4894512514599\n",
      "0.09678885330938938\n",
      "2.4186900215784464\n"
     ]
    }
   ],
   "source": [
    "# Resolução para encontrar os autovalores da matrix\n",
    "\n",
    "A = np.array([[-0.045,0.036,0,-32.2], [-0.369,-2.02,176,0], [0.0019,-0.0396,-2.948,0], [0,0,1,0]])\n",
    "autovalores = np.linalg.eigvals(A)\n",
    "nil1 = abs((autovalores[0]+ autovalores[1])/ 2)\n",
    "nil2 = abs((autovalores[2]+ autovalores[3])/ 2)\n",
    "w1 = abs((autovalores[0] -autovalores[1])/ 2)\n",
    "w2 = abs((autovalores[2] - autovalores[3])/ 2)\n",
    "\n",
    "print(w1)\n",
    "print(w2)\n",
    "                #Calculo do período da função senoidal\n",
    "\n",
    "t_Periodo = 2 * np.pi / w1\n",
    "N_ciclos = 0.101 * nil1 / w1\n",
    "print(nil1)\n",
    "print(N_ciclos)\n",
    "print(t_Periodo)\n",
    "t = 0.693/nil1  # Calculo do Tempo de meia vida de oscilação\n",
    "\n",
    "\n"
   ]
  },
  {
   "cell_type": "code",
   "execution_count": null,
   "metadata": {},
   "outputs": [],
   "source": [
    "b = np.array([[0], [0] , [0] ,[0]])\n",
    "c = np.array([[0, 0, 0 ,0], [0,0 ,0 ,0] , [0,0 ,0 ,0] ,[0,0 ,0,0]])\n",
    "d = np.array([ [0], [0] , [0] ,[0]])\n",
    "print(A.shape)\n",
    "print(b.shape)\n",
    "print(c.shape)\n",
    "print(d.shape)\n",
    "sys = signal.StateSpace(A, b, c, d)\n",
    "\n",
    "t1,y1 = signal.step(sys)\n",
    "\n",
    "plt.plot(t1,y1)\n"
   ]
  },
  {
   "cell_type": "markdown",
   "metadata": {},
   "source": [
    "# Representação de Forças Aerodinâmicas e Momentos #\n",
    "\n",
    "Representaremos aqui as forças aerodinâmicas e seus momentos como coeficientes\n",
    "de valores instantâneos das variáveis de pertubação.\n",
    "\n",
    "Essas variáveis representam a mudanças das condições de referência do ângulo de translação, velocidade angular, deflexão do controle de superfície e suas derivadas. Por exemplo, a mudança da força em na direção x pode ser expressa como"
   ]
  },
  {
   "cell_type": "markdown",
   "metadata": {},
   "source": [
    "<img src=\"imagem1.png\" alt=\"title\">"
   ]
  },
  {
   "cell_type": "markdown",
   "metadata": {},
   "source": [
    "O termo dX / du é calculado na condição de vôo de referência e pode ser interpretado como o efeito de mudar a velocidade u na direção X. Essa derivada também pode ser expressa em termos da equação seguinte:"
   ]
  },
  {
   "cell_type": "markdown",
   "metadata": {},
   "source": [
    "<img src=\"imagem2.png\" alt=\"title\">\n",
    "<img src=\"imagem4.png\" alt=\"title\">"
   ]
  },
  {
   "cell_type": "markdown",
   "metadata": {},
   "source": [
    "Onde C_x é o coeficiente de força no eixo x e C_xu é o coeficiente de estabilidade que relaciona a variação da força em x com a velocidade u. A mesma ideia pode ser utilizada para os momentos"
   ]
  },
  {
   "cell_type": "markdown",
   "metadata": {},
   "source": [
    "<img src=\"imagem3.png\" alt=\"title\">"
   ]
  },
  {
   "cell_type": "markdown",
   "metadata": {},
   "source": [
    "# Derivadas devido a mudança de Foward Speed #\n",
    "\n",
    "As forças aerodinâmicas agindo no eixo X são o arrasto D e a força empuxo T.\n",
    "Logo a derivada será a soma das duas forças.\n",
    "\n",
    "<img src=\"imagem5.png\" alt=\"title\">\n",
    "\n",
    "e pode ser reescrita como:\n",
    "\n",
    "<img src=\"imagem6.png\" alt=\"title\">\n",
    "\n",
    "A subescrição 0 indica a condição de referência. O respectivo coeficiente de estabilidade relacionado a essa derivada é o C_xu e pode ser calculado pela equação:\n",
    "\n",
    "<img src=\"imagem7.png\" alt=\"title\">"
   ]
  },
  {
   "cell_type": "markdown",
   "metadata": {},
   "source": [
    "Como o código ainda não esta totalmente desenvolvido irei inicializar as variveis como valores aleatórios e tiraremos os inputs durante os sprinters."
   ]
  },
  {
   "cell_type": "code",
   "execution_count": 4,
   "metadata": {},
   "outputs": [],
   "source": [
    "C_d0 = 0.327781\n",
    "C_du = -0.33321\n",
    "C_tu = 0.2332\n",
    "\n",
    "C_xu = -(C_du + 2 * C_d0 ) + C_tu"
   ]
  },
  {
   "cell_type": "markdown",
   "metadata": {},
   "source": [
    "Onde o C_du e C_tu são as mudanças nos coeficientes de arrasto e de empuxo com o foward speed, esses coeficientes se tornam adimensionais  quando diferenciados por u / u_0.\n",
    "\n",
    "<img src=\"imagem8.png\" alt=\"title\">\n",
    "<img src=\"imagem9.png\" alt=\"title\">\n",
    "\n",
    "O Coeficiente C_d0 pode ser estimado avaliando a variação do coeficiente de arrasto com o número de Mach.\n",
    "\n",
    "<img src=\"imagem10.png\" alt=\"title\">\n",
    "\n",
    "O termo de empuxo pode ser considarado 0 para um gliding flight. Para aeronaves alimentadas por uma hélice C_tu = - C_d0.\n",
    "\n",
    "Acredito que C_Du deva ser incluido na lista de input."
   ]
  },
  {
   "cell_type": "markdown",
   "metadata": {},
   "source": [
    "<h4> Mudanças no eixo Z devido ao foward speed </h4>\n",
    "\n",
    "Essa força pode ser calculada como:\n",
    "\n",
    "<img src=\"imagem11.png\" alt=\"title\">\n",
    "\n",
    "e o coeficiente de estabilidade como:\n",
    "\n",
    "<img src=\"imagem12.png\" alt=\"title\">\n"
   ]
  },
  {
   "cell_type": "code",
   "execution_count": 5,
   "metadata": {},
   "outputs": [],
   "source": [
    "C_lu = -2.47649\n",
    "C_l0 = -1.221\n",
    "C_zu = -(C_lu + 2* C_l0)"
   ]
  },
  {
   "cell_type": "markdown",
   "metadata": {},
   "source": [
    "O coeficiente C_lu surge com a mudança no coeficiente de sustentação com o número de Mach. C_lu pode ser estimado como:\n",
    "\n",
    "<img src=\"imagem13.png\" alt=\"title\">\n",
    "\n",
    "Seguindo o mesmo caminho a mudança no pitching moment devido a variações na foward speed pode ser escrito como:\n",
    "\n",
    "<img src=\"imagem14.png\" alt=\"title\">\n",
    "\n",
    "O coeficiente C_mu pode ser expresso como:\n",
    "\n",
    "<img src=\"imagem15.png\" alt=\"title\">\n",
    "\n",
    "Acredito que essass derivadas entram na lista de input\n",
    "\n",
    "\n"
   ]
  }
 ],
 "metadata": {
  "interpreter": {
   "hash": "7812ea015bdcee6f23a998adcdd2ef97c151c0c241b7b7070987d9313e41299d"
  },
  "kernelspec": {
   "display_name": "Python 3.9.5 64-bit",
   "language": "python",
   "name": "python3"
  },
  "language_info": {
   "codemirror_mode": {
    "name": "ipython",
    "version": 3
   },
   "file_extension": ".py",
   "mimetype": "text/x-python",
   "name": "python",
   "nbconvert_exporter": "python",
   "pygments_lexer": "ipython3",
   "version": "3.9.5"
  },
  "orig_nbformat": 4
 },
 "nbformat": 4,
 "nbformat_minor": 2
}
